{
 "cells": [
  {
   "cell_type": "markdown",
   "id": "2dabfad6-3867-4f2e-9b8d-69ae480ddb26",
   "metadata": {},
   "source": [
    "### Notebook Setup"
   ]
  },
  {
   "cell_type": "code",
   "execution_count": 16,
   "id": "14097f1d",
   "metadata": {},
   "outputs": [
    {
     "name": "stdout",
     "output_type": "stream",
     "text": [
      "The autoreload extension is already loaded. To reload it, use:\n",
      "  %reload_ext autoreload\n"
     ]
    }
   ],
   "source": [
    "import pandas as pd\n",
    "import numpy as np\n",
    "import matplotlib.pyplot as plt\n",
    "\n",
    "# Scikit-learn\n",
    "from sklearn.model_selection import train_test_split\n",
    "from sklearn.preprocessing import LabelEncoder\n",
    "\n",
    "pd.set_option('display.width', 1000) #better print view\n",
    "pd.set_option('display.max_colwidth', 100) \n",
    "\n",
    "random_seed = 88 #for replication\n",
    "\n",
    "%load_ext autoreload\n",
    "%autoreload 2"
   ]
  },
  {
   "cell_type": "markdown",
   "id": "f5ff8111-2627-4abd-80b5-dbb78db72fdb",
   "metadata": {},
   "source": [
    "#### Load Dataset from File\n",
    "\n",
    "The training data containing 3 columns:\n",
    "\n",
    "* `Text`: Raw input text\n",
    "* `Label`: Political tendency label (Democratic/Republican/NA)"
   ]
  },
  {
   "cell_type": "code",
   "execution_count": 17,
   "id": "1ab2a247-beea-4a2d-996c-a82c4e0da2b0",
   "metadata": {},
   "outputs": [
    {
     "data": {
      "text/html": [
       "<div>\n",
       "<style scoped>\n",
       "    .dataframe tbody tr th:only-of-type {\n",
       "        vertical-align: middle;\n",
       "    }\n",
       "\n",
       "    .dataframe tbody tr th {\n",
       "        vertical-align: top;\n",
       "    }\n",
       "\n",
       "    .dataframe thead th {\n",
       "        text-align: right;\n",
       "    }\n",
       "</style>\n",
       "<table border=\"1\" class=\"dataframe\">\n",
       "  <thead>\n",
       "    <tr style=\"text-align: right;\">\n",
       "      <th></th>\n",
       "      <th>Text</th>\n",
       "      <th>Label</th>\n",
       "    </tr>\n",
       "  </thead>\n",
       "  <tbody>\n",
       "    <tr>\n",
       "      <th>0</th>\n",
       "      <td>Forensic Audit: \"We conclude that the Dominion Voting System is intentionally and purposefully d...</td>\n",
       "      <td>Republican</td>\n",
       "    </tr>\n",
       "    <tr>\n",
       "      <th>1</th>\n",
       "      <td>Biden and The Squad's Tlaib stage heated confrontation on tarmac in Detroit. Tlaib, your family ...</td>\n",
       "      <td>Republican</td>\n",
       "    </tr>\n",
       "    <tr>\n",
       "      <th>2</th>\n",
       "      <td>President-elect Biden is projected to win Pennsylvania and Nevada, putting him over 270 electora...</td>\n",
       "      <td>NaN</td>\n",
       "    </tr>\n",
       "    <tr>\n",
       "      <th>3</th>\n",
       "      <td>Not even an issue of politics it's wrong this man is being charged. What is going to happen with...</td>\n",
       "      <td>Republican</td>\n",
       "    </tr>\n",
       "    <tr>\n",
       "      <th>4</th>\n",
       "      <td>Young man wearing MAGA hat attacked at school and spit on by two girls / animals. He deserves ju...</td>\n",
       "      <td>Republican</td>\n",
       "    </tr>\n",
       "  </tbody>\n",
       "</table>\n",
       "</div>"
      ],
      "text/plain": [
       "                                                                                                  Text       Label\n",
       "0  Forensic Audit: \"We conclude that the Dominion Voting System is intentionally and purposefully d...  Republican\n",
       "1  Biden and The Squad's Tlaib stage heated confrontation on tarmac in Detroit. Tlaib, your family ...  Republican\n",
       "2  President-elect Biden is projected to win Pennsylvania and Nevada, putting him over 270 electora...         NaN\n",
       "3  Not even an issue of politics it's wrong this man is being charged. What is going to happen with...  Republican\n",
       "4  Young man wearing MAGA hat attacked at school and spit on by two girls / animals. He deserves ju...  Republican"
      ]
     },
     "execution_count": 17,
     "metadata": {},
     "output_type": "execute_result"
    }
   ],
   "source": [
    "df = pd.read_csv(\"subreddit_dataset_full_labeled_gpt4o.csv\", sep=\",\")\n",
    "\n",
    "df.head()"
   ]
  },
  {
   "cell_type": "code",
   "execution_count": 18,
   "id": "672ef747-7568-4894-8d20-56c171fd4639",
   "metadata": {},
   "outputs": [
    {
     "name": "stdout",
     "output_type": "stream",
     "text": [
      "Number of samples: 14048\n",
      "Unique labels: ['Republican' nan 'Democratic' 'NA']\n"
     ]
    }
   ],
   "source": [
    "print(\"Number of samples: {}\".format(len(df)))\n",
    "\n",
    "#remove whitespaces from df\n",
    "df = df.map(lambda x: x.strip() if isinstance(x, str) else x)\n",
    "print(f\"Unique labels: {df['Label'].unique()}\")"
   ]
  },
  {
   "cell_type": "markdown",
   "id": "a8d03a85",
   "metadata": {},
   "source": [
    "Let's exclude NA (Not Applicable) labels from the dataset"
   ]
  },
  {
   "cell_type": "code",
   "execution_count": 19,
   "id": "4e8781da",
   "metadata": {},
   "outputs": [
    {
     "data": {
      "text/html": [
       "<div>\n",
       "<style scoped>\n",
       "    .dataframe tbody tr th:only-of-type {\n",
       "        vertical-align: middle;\n",
       "    }\n",
       "\n",
       "    .dataframe tbody tr th {\n",
       "        vertical-align: top;\n",
       "    }\n",
       "\n",
       "    .dataframe thead th {\n",
       "        text-align: right;\n",
       "    }\n",
       "</style>\n",
       "<table border=\"1\" class=\"dataframe\">\n",
       "  <thead>\n",
       "    <tr style=\"text-align: right;\">\n",
       "      <th></th>\n",
       "      <th>Text</th>\n",
       "      <th>Label</th>\n",
       "    </tr>\n",
       "  </thead>\n",
       "  <tbody>\n",
       "    <tr>\n",
       "      <th>0</th>\n",
       "      <td>Forensic Audit: \"We conclude that the Dominion Voting System is intentionally and purposefully d...</td>\n",
       "      <td>Republican</td>\n",
       "    </tr>\n",
       "    <tr>\n",
       "      <th>1</th>\n",
       "      <td>Biden and The Squad's Tlaib stage heated confrontation on tarmac in Detroit. Tlaib, your family ...</td>\n",
       "      <td>Republican</td>\n",
       "    </tr>\n",
       "    <tr>\n",
       "      <th>3</th>\n",
       "      <td>Not even an issue of politics it's wrong this man is being charged. What is going to happen with...</td>\n",
       "      <td>Republican</td>\n",
       "    </tr>\n",
       "    <tr>\n",
       "      <th>4</th>\n",
       "      <td>Young man wearing MAGA hat attacked at school and spit on by two girls / animals. He deserves ju...</td>\n",
       "      <td>Republican</td>\n",
       "    </tr>\n",
       "    <tr>\n",
       "      <th>6</th>\n",
       "      <td>Trump says working on a very big trade deal with India, but will take time. India is, rightful, ...</td>\n",
       "      <td>Republican</td>\n",
       "    </tr>\n",
       "  </tbody>\n",
       "</table>\n",
       "</div>"
      ],
      "text/plain": [
       "                                                                                                  Text       Label\n",
       "0  Forensic Audit: \"We conclude that the Dominion Voting System is intentionally and purposefully d...  Republican\n",
       "1  Biden and The Squad's Tlaib stage heated confrontation on tarmac in Detroit. Tlaib, your family ...  Republican\n",
       "3  Not even an issue of politics it's wrong this man is being charged. What is going to happen with...  Republican\n",
       "4  Young man wearing MAGA hat attacked at school and spit on by two girls / animals. He deserves ju...  Republican\n",
       "6  Trump says working on a very big trade deal with India, but will take time. India is, rightful, ...  Republican"
      ]
     },
     "execution_count": 19,
     "metadata": {},
     "output_type": "execute_result"
    }
   ],
   "source": [
    "df = df.dropna()\n",
    "df = df[df[\"Label\"] != \"NA\"]\n",
    "\n",
    "df.head()"
   ]
  },
  {
   "cell_type": "code",
   "execution_count": 20,
   "id": "349c379e",
   "metadata": {},
   "outputs": [
    {
     "name": "stdout",
     "output_type": "stream",
     "text": [
      "Number of samples: 10979\n"
     ]
    }
   ],
   "source": [
    "print(\"Number of samples: {}\".format(len(df)))"
   ]
  },
  {
   "cell_type": "markdown",
   "id": "35778731-7907-468d-b5b1-669ba135f14d",
   "metadata": {},
   "source": [
    "Let's visualize the distribution of class labels in form of a pie chart."
   ]
  },
  {
   "cell_type": "code",
   "execution_count": 21,
   "id": "ed57e9ce-bbf4-467e-a623-2c2c2f45cedc",
   "metadata": {},
   "outputs": [
    {
     "data": {
      "text/plain": [
       "<Axes: >"
      ]
     },
     "execution_count": 21,
     "metadata": {},
     "output_type": "execute_result"
    },
    {
     "data": {
      "image/png": "[encoded data removed]",
      "text/plain": [
       "<Figure size 6000x500 with 1 Axes>"
      ]
     },
     "metadata": {},
     "output_type": "display_data"
    }
   ],
   "source": [
    "kwargs = dict(\n",
    "    startangle = 90,\n",
    "    fontsize   = 13,\n",
    "    figsize    = (60,5),\n",
    "    autopct    = '%1.1f%%',\n",
    "    label      = ''\n",
    ")\n",
    "\n",
    "df['Label'].value_counts().plot.pie(**kwargs)"
   ]
  },
  {
   "cell_type": "markdown",
   "id": "162eee20-be77-468c-84a1-e1986d5d1d5f",
   "metadata": {},
   "source": [
    "While not perfectly distributed, the class labels are arguebly well balanced."
   ]
  },
  {
   "cell_type": "markdown",
   "id": "763d2325-8f9d-46c9-a87e-13d46e8d51c6",
   "metadata": {},
   "source": [
    "#### Data Preparation"
   ]
  },
  {
   "cell_type": "markdown",
   "id": "fe051b02",
   "metadata": {},
   "source": [
    "Train-Val-Test split"
   ]
  },
  {
   "cell_type": "code",
   "execution_count": 22,
   "id": "dbec56de",
   "metadata": {},
   "outputs": [
    {
     "name": "stdout",
     "output_type": "stream",
     "text": [
      "Size of X_train: 8783\n",
      "Size of X_val: 1098\n",
      "Size of X_test: 1098\n"
     ]
    }
   ],
   "source": [
    "#Encode labels\n",
    "label_encoder = LabelEncoder()\n",
    "df['Label_encoded'] = label_encoder.fit_transform(df['Label'])\n",
    "\n",
    "\n",
    "# Split data\n",
    "train_df, temp_df = train_test_split(df, test_size=0.2, stratify=df['Label_encoded'], random_state=random_seed)\n",
    "val_df, test_df = train_test_split(temp_df, test_size=0.5, stratify=temp_df['Label_encoded'], random_state=random_seed)\n",
    "\n",
    "X_train = train_df['Text']\n",
    "y_train = train_df['Label_encoded']\n",
    "\n",
    "X_val = val_df['Text']\n",
    "y_val = val_df['Label_encoded']\n",
    "\n",
    "X_test = test_df['Text']\n",
    "y_test = test_df['Label_encoded']\n",
    "\n",
    "print(f\"Size of X_train: {X_train.shape[0]}\")\n",
    "print(f\"Size of X_val: {X_val.shape[0]}\")\n",
    "print(f\"Size of X_test: {X_test.shape[0]}\")"
   ]
  }
 ],
 "metadata": {
  "kernelspec": {
   "display_name": "base",
   "language": "python",
   "name": "python3"
  },
  "language_info": {
   "codemirror_mode": {
    "name": "ipython",
    "version": 3
   },
   "file_extension": ".py",
   "mimetype": "text/x-python",
   "name": "python",
   "nbconvert_exporter": "python",
   "pygments_lexer": "ipython3",
   "version": "3.10.9"
  }
 },
 "nbformat": 4,
 "nbformat_minor": 5
}
