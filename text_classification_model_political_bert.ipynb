{
 "cells": [
  {
   "cell_type": "markdown",
   "id": "2dabfad6-3867-4f2e-9b8d-69ae480ddb26",
   "metadata": {},
   "source": [
    "### Notebook Setup"
   ]
  },
  {
   "cell_type": "code",
   "execution_count": 1,
   "id": "14097f1d",
   "metadata": {},
   "outputs": [
    {
     "name": "stderr",
     "output_type": "stream",
     "text": [
      "c:\\Users\\ekabu\\anaconda3\\lib\\site-packages\\pandas\\core\\arrays\\masked.py:60: UserWarning: Pandas requires version '1.3.6' or newer of 'bottleneck' (version '1.3.5' currently installed).\n",
      "  from pandas.core import (\n"
     ]
    }
   ],
   "source": [
    "import pandas as pd\n",
    "import numpy as np\n",
    "import matplotlib.pyplot as plt\n",
    "\n",
    "# Scikit-learn\n",
    "from sklearn.model_selection import train_test_split\n",
    "from sklearn.preprocessing import LabelEncoder\n",
    "\n",
    "pd.set_option('display.width', 1000) #better print view\n",
    "pd.set_option('display.max_colwidth', 200) \n",
    "\n",
    "random_seed = 88 #for replication\n",
    "\n",
    "%load_ext autoreload\n",
    "%autoreload 2"
   ]
  },
  {
   "cell_type": "markdown",
   "id": "f5ff8111-2627-4abd-80b5-dbb78db72fdb",
   "metadata": {},
   "source": [
    "#### Load Dataset from File\n",
    "\n",
    "The training data containing 3 columns:\n",
    "\n",
    "* `Text`: Raw input text\n",
    "* `Label`: Political tendency label (Democratic/Republican/NA)"
   ]
  },
  {
   "cell_type": "code",
   "execution_count": 2,
   "id": "1ab2a247-beea-4a2d-996c-a82c4e0da2b0",
   "metadata": {},
   "outputs": [
    {
     "data": {
      "text/html": [
       "<div>\n",
       "<style scoped>\n",
       "    .dataframe tbody tr th:only-of-type {\n",
       "        vertical-align: middle;\n",
       "    }\n",
       "\n",
       "    .dataframe tbody tr th {\n",
       "        vertical-align: top;\n",
       "    }\n",
       "\n",
       "    .dataframe thead th {\n",
       "        text-align: right;\n",
       "    }\n",
       "</style>\n",
       "<table border=\"1\" class=\"dataframe\">\n",
       "  <thead>\n",
       "    <tr style=\"text-align: right;\">\n",
       "      <th></th>\n",
       "      <th>Text</th>\n",
       "      <th>Label</th>\n",
       "    </tr>\n",
       "  </thead>\n",
       "  <tbody>\n",
       "    <tr>\n",
       "      <th>0</th>\n",
       "      <td>Forensic Audit: \"We conclude that the Dominion Voting System is intentionally and purposefully designed with inherent errors to create systemic fraud and influence election results.\" So now that t...</td>\n",
       "      <td>Republican</td>\n",
       "    </tr>\n",
       "    <tr>\n",
       "      <th>1</th>\n",
       "      <td>Biden and The Squad's Tlaib stage heated confrontation on tarmac in Detroit. Tlaib, your family is Hamas. Funded by Iran a state sponsor of terrorism. Hamas is a terrorist organization 3000 rocket...</td>\n",
       "      <td>Republican</td>\n",
       "    </tr>\n",
       "    <tr>\n",
       "      <th>2</th>\n",
       "      <td>President-elect Biden is projected to win Pennsylvania and Nevada, putting him over 270 electoral votes. Most Republicans are happy with Biden as he will bring this country together and will have ...</td>\n",
       "      <td>NaN</td>\n",
       "    </tr>\n",
       "    <tr>\n",
       "      <th>3</th>\n",
       "      <td>Not even an issue of politics it's wrong this man is being charged. What is going to happen with this trend is that police will not risk getting charged and will not use their weapon unless it is ...</td>\n",
       "      <td>Republican</td>\n",
       "    </tr>\n",
       "    <tr>\n",
       "      <th>4</th>\n",
       "      <td>Young man wearing MAGA hat attacked at school and spit on by two girls / animals. He deserves justice! We gotta start normalizing defending ourselves against women. Screw all that \"they're weaker\"...</td>\n",
       "      <td>Republican</td>\n",
       "    </tr>\n",
       "  </tbody>\n",
       "</table>\n",
       "</div>"
      ],
      "text/plain": [
       "                                                                                                                                                                                                      Text       Label\n",
       "0  Forensic Audit: \"We conclude that the Dominion Voting System is intentionally and purposefully designed with inherent errors to create systemic fraud and influence election results.\" So now that t...  Republican\n",
       "1  Biden and The Squad's Tlaib stage heated confrontation on tarmac in Detroit. Tlaib, your family is Hamas. Funded by Iran a state sponsor of terrorism. Hamas is a terrorist organization 3000 rocket...  Republican\n",
       "2  President-elect Biden is projected to win Pennsylvania and Nevada, putting him over 270 electoral votes. Most Republicans are happy with Biden as he will bring this country together and will have ...         NaN\n",
       "3  Not even an issue of politics it's wrong this man is being charged. What is going to happen with this trend is that police will not risk getting charged and will not use their weapon unless it is ...  Republican\n",
       "4  Young man wearing MAGA hat attacked at school and spit on by two girls / animals. He deserves justice! We gotta start normalizing defending ourselves against women. Screw all that \"they're weaker\"...  Republican"
      ]
     },
     "execution_count": 2,
     "metadata": {},
     "output_type": "execute_result"
    }
   ],
   "source": [
    "df = pd.read_csv(\"subreddit_dataset_full_labeled_gpt4o.csv\", sep=\",\")\n",
    "\n",
    "df.head()"
   ]
  },
  {
   "cell_type": "code",
   "execution_count": 3,
   "id": "672ef747-7568-4894-8d20-56c171fd4639",
   "metadata": {},
   "outputs": [
    {
     "name": "stdout",
     "output_type": "stream",
     "text": [
      "Number of samples: 14048\n",
      "Unique labels: ['Republican' nan 'Democratic' 'NA']\n"
     ]
    }
   ],
   "source": [
    "print(\"Number of samples: {}\".format(len(df)))\n",
    "\n",
    "#remove whitespaces from df\n",
    "df = df.map(lambda x: x.strip() if isinstance(x, str) else x)\n",
    "print(f\"Unique labels: {df['Label'].unique()}\")"
   ]
  },
  {
   "cell_type": "markdown",
   "id": "a8d03a85",
   "metadata": {},
   "source": [
    "Let's exclude NA (Not Applicable) labels from the dataset"
   ]
  },
  {
   "cell_type": "code",
   "execution_count": 4,
   "id": "4e8781da",
   "metadata": {},
   "outputs": [
    {
     "data": {
      "text/html": [
       "<div>\n",
       "<style scoped>\n",
       "    .dataframe tbody tr th:only-of-type {\n",
       "        vertical-align: middle;\n",
       "    }\n",
       "\n",
       "    .dataframe tbody tr th {\n",
       "        vertical-align: top;\n",
       "    }\n",
       "\n",
       "    .dataframe thead th {\n",
       "        text-align: right;\n",
       "    }\n",
       "</style>\n",
       "<table border=\"1\" class=\"dataframe\">\n",
       "  <thead>\n",
       "    <tr style=\"text-align: right;\">\n",
       "      <th></th>\n",
       "      <th>Text</th>\n",
       "      <th>Label</th>\n",
       "    </tr>\n",
       "  </thead>\n",
       "  <tbody>\n",
       "    <tr>\n",
       "      <th>0</th>\n",
       "      <td>Forensic Audit: \"We conclude that the Dominion Voting System is intentionally and purposefully designed with inherent errors to create systemic fraud and influence election results.\" So now that t...</td>\n",
       "      <td>Republican</td>\n",
       "    </tr>\n",
       "    <tr>\n",
       "      <th>1</th>\n",
       "      <td>Biden and The Squad's Tlaib stage heated confrontation on tarmac in Detroit. Tlaib, your family is Hamas. Funded by Iran a state sponsor of terrorism. Hamas is a terrorist organization 3000 rocket...</td>\n",
       "      <td>Republican</td>\n",
       "    </tr>\n",
       "    <tr>\n",
       "      <th>3</th>\n",
       "      <td>Not even an issue of politics it's wrong this man is being charged. What is going to happen with this trend is that police will not risk getting charged and will not use their weapon unless it is ...</td>\n",
       "      <td>Republican</td>\n",
       "    </tr>\n",
       "    <tr>\n",
       "      <th>4</th>\n",
       "      <td>Young man wearing MAGA hat attacked at school and spit on by two girls / animals. He deserves justice! We gotta start normalizing defending ourselves against women. Screw all that \"they're weaker\"...</td>\n",
       "      <td>Republican</td>\n",
       "    </tr>\n",
       "    <tr>\n",
       "      <th>6</th>\n",
       "      <td>Trump says working on a very big trade deal with India, but will take time. India is, rightful, where we should pay a significant amount of our attention when it comes to that side of the world.</td>\n",
       "      <td>Republican</td>\n",
       "    </tr>\n",
       "  </tbody>\n",
       "</table>\n",
       "</div>"
      ],
      "text/plain": [
       "                                                                                                                                                                                                      Text       Label\n",
       "0  Forensic Audit: \"We conclude that the Dominion Voting System is intentionally and purposefully designed with inherent errors to create systemic fraud and influence election results.\" So now that t...  Republican\n",
       "1  Biden and The Squad's Tlaib stage heated confrontation on tarmac in Detroit. Tlaib, your family is Hamas. Funded by Iran a state sponsor of terrorism. Hamas is a terrorist organization 3000 rocket...  Republican\n",
       "3  Not even an issue of politics it's wrong this man is being charged. What is going to happen with this trend is that police will not risk getting charged and will not use their weapon unless it is ...  Republican\n",
       "4  Young man wearing MAGA hat attacked at school and spit on by two girls / animals. He deserves justice! We gotta start normalizing defending ourselves against women. Screw all that \"they're weaker\"...  Republican\n",
       "6       Trump says working on a very big trade deal with India, but will take time. India is, rightful, where we should pay a significant amount of our attention when it comes to that side of the world.  Republican"
      ]
     },
     "execution_count": 4,
     "metadata": {},
     "output_type": "execute_result"
    }
   ],
   "source": [
    "df = df.dropna()\n",
    "df = df[df[\"Label\"] != \"NA\"]\n",
    "\n",
    "df.head()"
   ]
  },
  {
   "cell_type": "code",
   "execution_count": 5,
   "id": "349c379e",
   "metadata": {},
   "outputs": [
    {
     "name": "stdout",
     "output_type": "stream",
     "text": [
      "Number of samples: 10979\n"
     ]
    }
   ],
   "source": [
    "print(\"Number of samples: {}\".format(len(df)))"
   ]
  },
  {
   "cell_type": "markdown",
   "id": "35778731-7907-468d-b5b1-669ba135f14d",
   "metadata": {},
   "source": [
    "Let's visualize the distribution of class labels in form of a pie chart."
   ]
  },
  {
   "cell_type": "code",
   "execution_count": 6,
   "id": "ed57e9ce-bbf4-467e-a623-2c2c2f45cedc",
   "metadata": {},
   "outputs": [
    {
     "data": {
      "text/plain": [
       "<Axes: >"
      ]
     },
     "execution_count": 6,
     "metadata": {},
     "output_type": "execute_result"
    },
    {
     "data": {
      "image/png": "[encoded data removed]",
      "text/plain": [
       "<Figure size 6000x500 with 1 Axes>"
      ]
     },
     "metadata": {},
     "output_type": "display_data"
    }
   ],
   "source": [
    "kwargs = dict(\n",
    "    startangle = 90,\n",
    "    fontsize   = 13,\n",
    "    figsize    = (60,5),\n",
    "    autopct    = '%1.1f%%',\n",
    "    label      = ''\n",
    ")\n",
    "\n",
    "df['Label'].value_counts().plot.pie(**kwargs)"
   ]
  },
  {
   "cell_type": "markdown",
   "id": "162eee20-be77-468c-84a1-e1986d5d1d5f",
   "metadata": {},
   "source": [
    "While not perfectly distributed, the class labels are arguebly well balanced."
   ]
  },
  {
   "cell_type": "markdown",
   "id": "763d2325-8f9d-46c9-a87e-13d46e8d51c6",
   "metadata": {},
   "source": [
    "#### Data Preparation"
   ]
  },
  {
   "cell_type": "markdown",
   "id": "6875aaa1",
   "metadata": {},
   "source": [
    "Text Preprocessing"
   ]
  },
  {
   "cell_type": "code",
   "execution_count": 7,
   "id": "b0a28ecd",
   "metadata": {},
   "outputs": [
    {
     "name": "stdout",
     "output_type": "stream",
     "text": [
      "                                                                                                                                                                                                      Text       Label\n",
      "0  forensic audit we conclude that the dominion voting system is intentionally and purposefully designed with inherent error to create systemic fraud and influence election result. so now that they h...  Republican\n",
      "1  biden and the squad tlaib stage heated confrontation on tarmac in detroit. tlaib your family is hamas. funded by iran a state sponsor of terrorism. hamas is a terrorist organization rocket shot at...  Republican\n",
      "3  not even an issue of politics it wrong this man is being charged. what is going to happen with this trend is that police will not risk getting charged and will not use their weapon unless it is ab...  Republican\n",
      "4  young man wearing maga hat attacked at school and spit on by two girl animal. he deserves justice! we got ta start normalizing defending ourselves against woman. screw all that theyre weaker b the...  Republican\n",
      "6            trump say working on a very big trade deal with india but will take time. india is rightful where we should pay a significant amount of our attention when it come to that side of the world.  Republican\n",
      "(10979, 2)\n"
     ]
    }
   ],
   "source": [
    "import re\n",
    "from nltk.tokenize import word_tokenize\n",
    "from nltk.stem import WordNetLemmatizer\n",
    "from nltk.corpus import stopwords\n",
    "\n",
    "LEMMATIZER = WordNetLemmatizer()\n",
    "STOP_WORDS = set(stopwords.words('english'))\n",
    "#define custom stop words to ensure negation words are kept\n",
    "WORDS_TO_KEEP = {'not', 'but', 'no', 'never', 'none', 'however', 'although', 'yet'}\n",
    "CUSTOM_STOP_WORDS = STOP_WORDS.difference(WORDS_TO_KEEP)\n",
    "\n",
    "#text preprocessing including case normalization, special character removal, lematization, etc.\n",
    "def preprocess(text):\n",
    "    # Lowercase and remove URLs/special characters\n",
    "    text = text.lower()\n",
    "    text = re.sub(r'http\\S+', '', text)\n",
    "    text = re.sub(r'[^a-zA-Z\\s.?!.]', '', text)\n",
    "    \n",
    "    text = re.sub(r'(?<!\\w)[.?!](?!\\s|$)', '', text) #remove punctuation that is not at the end of a word\n",
    "    \n",
    "    # Remove repetitive characters e.g: looool -> lol. hahaha-> haha\n",
    "    #text = re.sub(r'(.)\\1{2,}', r'\\1', text)\n",
    "    text = re.sub(r'([a-z][a-z])\\1+', r'\\1\\1', text)\n",
    "    \n",
    "    # Tokenize and lemmatize\n",
    "    tokens = word_tokenize(text)\n",
    "    tokens = [LEMMATIZER.lemmatize(word) for word in tokens]\n",
    "    \n",
    "    #Merge back tokens\n",
    "    result = \"\"\n",
    "    for i, token in enumerate(tokens):\n",
    "        if i > 0 and re.match(r'[.?!,;:]', token):\n",
    "            result += token  # No space before punctuation\n",
    "        else:\n",
    "            result += (\" \" if result else \"\") + token #space before word, no space at beginning.\n",
    "    return result.strip()\n",
    "\n",
    "df_clean = df.copy()\n",
    "df_clean['Text'] =  df_clean['Text'].apply(preprocess)\n",
    "df_clean['Text'] = df_clean['Text'].str.strip()\n",
    "print(df_clean.head(5))\n",
    "print(df_clean.shape)"
   ]
  },
  {
   "cell_type": "markdown",
   "id": "fe051b02",
   "metadata": {},
   "source": [
    "Train-Val-Test split"
   ]
  },
  {
   "cell_type": "code",
   "execution_count": 8,
   "id": "dbec56de",
   "metadata": {},
   "outputs": [
    {
     "name": "stdout",
     "output_type": "stream",
     "text": [
      "                                                                                                                                                                                                      Text       Label  Label_encoded\n",
      "0  forensic audit we conclude that the dominion voting system is intentionally and purposefully designed with inherent error to create systemic fraud and influence election result. so now that they h...  Republican              1\n",
      "1  biden and the squad tlaib stage heated confrontation on tarmac in detroit. tlaib your family is hamas. funded by iran a state sponsor of terrorism. hamas is a terrorist organization rocket shot at...  Republican              1\n",
      "3  not even an issue of politics it wrong this man is being charged. what is going to happen with this trend is that police will not risk getting charged and will not use their weapon unless it is ab...  Republican              1\n",
      "4  young man wearing maga hat attacked at school and spit on by two girl animal. he deserves justice! we got ta start normalizing defending ourselves against woman. screw all that theyre weaker b the...  Republican              1\n",
      "6            trump say working on a very big trade deal with india but will take time. india is rightful where we should pay a significant amount of our attention when it come to that side of the world.  Republican              1\n",
      "Size of X_train: 8783\n",
      "Size of X_val: 1098\n",
      "Size of X_test: 1098\n"
     ]
    }
   ],
   "source": [
    "#Encode labels\n",
    "label_encoder = LabelEncoder()\n",
    "df_clean['Label_encoded'] = label_encoder.fit_transform(df_clean['Label'])\n",
    "\n",
    "print(df_clean.head(5))\n",
    "\n",
    "# Split data\n",
    "train_df, temp_df = train_test_split(df_clean, test_size=0.2, stratify=df_clean['Label_encoded'], random_state=random_seed)\n",
    "val_df, test_df = train_test_split(temp_df, test_size=0.5, stratify=temp_df['Label_encoded'], random_state=random_seed)\n",
    "\n",
    "X_train = train_df['Text']\n",
    "y_train = train_df['Label_encoded']\n",
    "\n",
    "X_val = val_df['Text']\n",
    "y_val = val_df['Label_encoded']\n",
    "\n",
    "X_test = test_df['Text']\n",
    "y_test = test_df['Label_encoded']\n",
    "\n",
    "print(f\"Size of X_train: {X_train.shape[0]}\")\n",
    "print(f\"Size of X_val: {X_val.shape[0]}\")\n",
    "print(f\"Size of X_test: {X_test.shape[0]}\")"
   ]
  },
  {
   "cell_type": "markdown",
   "id": "59a235eb",
   "metadata": {},
   "source": [
    "Tokenization and Embedding"
   ]
  },
  {
   "cell_type": "code",
   "execution_count": 9,
   "id": "ea2fe0ad",
   "metadata": {},
   "outputs": [
    {
     "data": {
      "application/vnd.jupyter.widget-view+json": {
       "model_id": "280343bb65f94047903668f6087b6b3a",
       "version_major": 2,
       "version_minor": 0
      },
      "text/plain": [
       "Map:   0%|          | 0/8783 [00:00<?, ? examples/s]"
      ]
     },
     "metadata": {},
     "output_type": "display_data"
    },
    {
     "data": {
      "application/vnd.jupyter.widget-view+json": {
       "model_id": "0439a8fd907a496f8be9db187c6c3654",
       "version_major": 2,
       "version_minor": 0
      },
      "text/plain": [
       "Map:   0%|          | 0/1098 [00:00<?, ? examples/s]"
      ]
     },
     "metadata": {},
     "output_type": "display_data"
    },
    {
     "data": {
      "application/vnd.jupyter.widget-view+json": {
       "model_id": "f8035d3c8f92406c810ec3210639c2f1",
       "version_major": 2,
       "version_minor": 0
      },
      "text/plain": [
       "Map:   0%|          | 0/1098 [00:00<?, ? examples/s]"
      ]
     },
     "metadata": {},
     "output_type": "display_data"
    }
   ],
   "source": [
    "from datasets import Dataset\n",
    "from transformers import AutoTokenizer\n",
    "\n",
    "# Select mode path here\n",
    "pretrained_BertPolitical_path = \"kornosk/bert-political-election2020-twitter-mlm\"\n",
    "\n",
    "# Load model\n",
    "tokenizer = AutoTokenizer.from_pretrained(pretrained_BertPolitical_path)\n",
    "\n",
    "def tokenize(batch):\n",
    "    return tokenizer(\n",
    "        batch[\"text\"],\n",
    "        padding=\"max_length\",\n",
    "        truncation=True,\n",
    "        max_length=256,  # Reddit posts can be long\n",
    "        return_tensors=\"pt\"\n",
    "    )\n",
    "\n",
    "# Convert Series to Hugging Face Datasets\n",
    "train_dataset = Dataset.from_dict({\"text\": X_train.tolist(), \"label\": y_train.tolist()})\n",
    "val_dataset = Dataset.from_dict({\"text\": X_val.tolist(), \"label\": y_val.tolist()})\n",
    "test_dataset = Dataset.from_dict({\"text\": X_test.tolist(), \"label\": y_test.tolist()})\n",
    "\n",
    "# Tokenize all datasets\n",
    "train_dataset = train_dataset.map(tokenize, batched=True)\n",
    "val_dataset = val_dataset.map(tokenize, batched=True)\n",
    "test_dataset = test_dataset.map(tokenize, batched=True)"
   ]
  },
  {
   "cell_type": "code",
   "execution_count": 10,
   "id": "145f78cc",
   "metadata": {},
   "outputs": [
    {
     "name": "stdout",
     "output_type": "stream",
     "text": [
      "Requirement already satisfied: accelerate in c:\\users\\ekabu\\anaconda3\\lib\\site-packages (1.6.0)\n",
      "Requirement already satisfied: numpy<3.0.0,>=1.17 in c:\\users\\ekabu\\anaconda3\\lib\\site-packages (from accelerate) (1.26.4)\n",
      "Requirement already satisfied: torch>=2.0.0 in c:\\users\\ekabu\\anaconda3\\lib\\site-packages (from accelerate) (2.2.2)\n",
      "Requirement already satisfied: safetensors>=0.4.3 in c:\\users\\ekabu\\anaconda3\\lib\\site-packages (from accelerate) (0.5.3)\n",
      "Requirement already satisfied: pyyaml in c:\\users\\ekabu\\anaconda3\\lib\\site-packages (from accelerate) (6.0)\n",
      "Requirement already satisfied: huggingface-hub>=0.21.0 in c:\\users\\ekabu\\anaconda3\\lib\\site-packages (from accelerate) (0.29.3)\n",
      "Requirement already satisfied: packaging>=20.0 in c:\\users\\ekabu\\anaconda3\\lib\\site-packages (from accelerate) (24.0)\n",
      "Requirement already satisfied: psutil in c:\\users\\ekabu\\anaconda3\\lib\\site-packages (from accelerate) (5.9.0)\n",
      "Requirement already satisfied: filelock in c:\\users\\ekabu\\anaconda3\\lib\\site-packages (from huggingface-hub>=0.21.0->accelerate) (3.9.0)\n",
      "Requirement already satisfied: requests in c:\\users\\ekabu\\anaconda3\\lib\\site-packages (from huggingface-hub>=0.21.0->accelerate) (2.32.3)\n",
      "Requirement already satisfied: tqdm>=4.42.1 in c:\\users\\ekabu\\anaconda3\\lib\\site-packages (from huggingface-hub>=0.21.0->accelerate) (4.67.1)\n",
      "Requirement already satisfied: fsspec>=2023.5.0 in c:\\users\\ekabu\\anaconda3\\lib\\site-packages (from huggingface-hub>=0.21.0->accelerate) (2024.12.0)\n",
      "Requirement already satisfied: typing-extensions>=3.7.4.3 in c:\\users\\ekabu\\anaconda3\\lib\\site-packages (from huggingface-hub>=0.21.0->accelerate) (4.12.2)\n",
      "Requirement already satisfied: sympy in c:\\users\\ekabu\\anaconda3\\lib\\site-packages (from torch>=2.0.0->accelerate) (1.11.1)\n",
      "Requirement already satisfied: networkx in c:\\users\\ekabu\\anaconda3\\lib\\site-packages (from torch>=2.0.0->accelerate) (2.8.4)\n",
      "Requirement already satisfied: jinja2 in c:\\users\\ekabu\\anaconda3\\lib\\site-packages (from torch>=2.0.0->accelerate) (3.1.2)\n",
      "Requirement already satisfied: colorama in c:\\users\\ekabu\\anaconda3\\lib\\site-packages (from tqdm>=4.42.1->huggingface-hub>=0.21.0->accelerate) (0.4.6)\n",
      "Requirement already satisfied: MarkupSafe>=2.0 in c:\\users\\ekabu\\anaconda3\\lib\\site-packages (from jinja2->torch>=2.0.0->accelerate) (2.1.1)\n",
      "Requirement already satisfied: charset-normalizer<4,>=2 in c:\\users\\ekabu\\anaconda3\\lib\\site-packages (from requests->huggingface-hub>=0.21.0->accelerate) (2.0.4)\n",
      "Requirement already satisfied: certifi>=2017.4.17 in c:\\users\\ekabu\\anaconda3\\lib\\site-packages (from requests->huggingface-hub>=0.21.0->accelerate) (2024.2.2)\n",
      "Requirement already satisfied: idna<4,>=2.5 in c:\\users\\ekabu\\anaconda3\\lib\\site-packages (from requests->huggingface-hub>=0.21.0->accelerate) (3.4)\n",
      "Requirement already satisfied: urllib3<3,>=1.21.1 in c:\\users\\ekabu\\anaconda3\\lib\\site-packages (from requests->huggingface-hub>=0.21.0->accelerate) (1.26.14)\n",
      "Requirement already satisfied: mpmath>=0.19 in c:\\users\\ekabu\\anaconda3\\lib\\site-packages (from sympy->torch>=2.0.0->accelerate) (1.2.1)\n",
      "Note: you may need to restart the kernel to use updated packages.\n"
     ]
    },
    {
     "name": "stderr",
     "output_type": "stream",
     "text": [
      "WARNING: Ignoring invalid distribution -illow (c:\\users\\ekabu\\anaconda3\\lib\\site-packages)\n",
      "WARNING: Ignoring invalid distribution -illow (c:\\users\\ekabu\\anaconda3\\lib\\site-packages)\n",
      "WARNING: Ignoring invalid distribution -illow (c:\\users\\ekabu\\anaconda3\\lib\\site-packages)\n",
      "WARNING: Ignoring invalid distribution -illow (c:\\users\\ekabu\\anaconda3\\lib\\site-packages)\n",
      "WARNING: Ignoring invalid distribution -illow (c:\\users\\ekabu\\anaconda3\\lib\\site-packages)\n",
      "WARNING: Ignoring invalid distribution -illow (c:\\users\\ekabu\\anaconda3\\lib\\site-packages)\n"
     ]
    }
   ],
   "source": [
    "%pip install --upgrade accelerate"
   ]
  },
  {
   "cell_type": "markdown",
   "id": "d7ef98e9",
   "metadata": {},
   "source": [
    "Fine-Tuning the Model"
   ]
  },
  {
   "cell_type": "code",
   "execution_count": null,
   "id": "c0f46d37",
   "metadata": {},
   "outputs": [],
   "source": [
    "from transformers import TrainingArguments, Trainer, AutoModelForSequenceClassification\n",
    "from sklearn.metrics import accuracy_score, f1_score\n",
    "import torch\n",
    "# Define metrics for evaluation\n",
    "def compute_metrics(eval_pred):\n",
    "    logits, labels = eval_pred\n",
    "    predictions = np.argmax(logits, axis=-1)\n",
    "    return {\n",
    "        \"accuracy\": accuracy_score(labels, predictions),\n",
    "        \"f1\": f1_score(labels, predictions, average=\"binary\")  # Use 'binary' for 2 classes\n",
    "    }\n",
    "\n",
    "isTraining = False #Set to True for fine-tuning, will take long time. Else, load a fine-tuned model below\n",
    "if isTraining:\n",
    "    #use GPU for training if available\n",
    "    if torch.cuda.is_available():\n",
    "        print(f\"GPU device: {torch.cuda.get_device_name(0)}\")\n",
    "    else:\n",
    "        print(\"No GPU detected. Using CPU.\")\n",
    "    # Choose GPU if available\n",
    "    device = torch.device(\"cuda\" if torch.cuda.is_available() else \"cpu\")\n",
    "\n",
    "    # Load the model for sequence classification\n",
    "    model = AutoModelForSequenceClassification.from_pretrained(\n",
    "        pretrained_BertPolitical_path,\n",
    "        num_labels=2,  # Binary classification\n",
    "        ignore_mismatched_sizes=True  # Required if the original model wasn't a classifier\n",
    "    )\n",
    "\n",
    "    # Training arguments\n",
    "    training_args = TrainingArguments(\n",
    "        output_dir=\"./results\",\n",
    "        num_train_epochs=5,  # Start with 3 epochs (adjust based on early stopping)\n",
    "        per_device_train_batch_size=8,\n",
    "        per_device_eval_batch_size=8,\n",
    "        gradient_accumulation_steps=4,  # Effective batch size = 16\n",
    "        learning_rate=2e-5,\n",
    "        fp16=True,\n",
    "        evaluation_strategy=\"epoch\",\n",
    "        save_strategy=\"epoch\",\n",
    "        logging_dir=\"./logs\",\n",
    "        load_best_model_at_end=True,\n",
    "        metric_for_best_model=\"f1\",  # Optimize for F1 score\n",
    "    )\n",
    "\n",
    "    # Initialize Trainer\n",
    "    trainer = Trainer(\n",
    "        model=model,\n",
    "        args=training_args,\n",
    "        train_dataset=train_dataset,\n",
    "        eval_dataset=val_dataset,\n",
    "        compute_metrics=compute_metrics,\n",
    "    )\n",
    "\n",
    "    # Start training\n",
    "    trainer.train()"
   ]
  },
  {
   "cell_type": "markdown",
   "id": "99d91e50",
   "metadata": {},
   "source": [
    "Evaluation on Test Set"
   ]
  },
  {
   "cell_type": "code",
   "execution_count": 14,
   "id": "e3bbb305",
   "metadata": {},
   "outputs": [
    {
     "data": {
      "text/html": [],
      "text/plain": [
       "<IPython.core.display.HTML object>"
      ]
     },
     "metadata": {},
     "output_type": "display_data"
    },
    {
     "name": "stdout",
     "output_type": "stream",
     "text": [
      "Test Accuracy: 0.80\n",
      "Test F1: 0.81\n"
     ]
    }
   ],
   "source": [
    "from transformers import BertForSequenceClassification, BertTokenizer\n",
    "\n",
    "if not isTraining: #load saved model from path\n",
    "    model = BertForSequenceClassification.from_pretrained(\"./my_political_bert_model\")\n",
    "    tokenizer = BertTokenizer.from_pretrained(\"./my_political_bert_model\")\n",
    "    trainer = Trainer(model=model, compute_metrics=compute_metrics)\n",
    "    \n",
    "test_results = trainer.evaluate(test_dataset)\n",
    "    \n",
    "print(f\"Test Accuracy: {test_results['eval_accuracy']:.2f}\")\n",
    "print(f\"Test F1: {test_results['eval_f1']:.2f}\")"
   ]
  },
  {
   "cell_type": "code",
   "execution_count": 23,
   "id": "27a52b48",
   "metadata": {},
   "outputs": [
    {
     "data": {
      "text/html": [],
      "text/plain": [
       "<IPython.core.display.HTML object>"
      ]
     },
     "metadata": {},
     "output_type": "display_data"
    }
   ],
   "source": [
    "from sklearn.metrics import confusion_matrix, roc_curve, auc\n",
    "import matplotlib.pyplot as plt\n",
    "\n",
    "# Get predictions from the trainer\n",
    "predictions = trainer.predict(test_dataset)\n",
    "pred_logits = predictions.predictions\n",
    "true_labels = predictions.label_ids\n",
    "\n",
    "# Convert logits to class predictions (0 or 1)\n",
    "pred_classes = np.argmax(pred_logits, axis=1)\n",
    "\n",
    "results_df = pd.DataFrame({\n",
    "    'text': test_dataset['text'],  # Original text\n",
    "    'true_label': true_labels,\n",
    "    'predicted_class': pred_classes,\n",
    "    'class_0_probability': np.exp(pred_logits[:, 0]) / np.sum(np.exp(pred_logits), axis=1),  # Democratic\n",
    "    'class_1_probability': np.exp(pred_logits[:, 1]) / np.sum(np.exp(pred_logits), axis=1)   # Republican\n",
    "})\n",
    "\n",
    "# Save to CSV\n",
    "results_df.to_csv('political_bert_predictions.csv', index=False)"
   ]
  },
  {
   "cell_type": "code",
   "execution_count": 16,
   "id": "403197ff",
   "metadata": {},
   "outputs": [
    {
     "data": {
      "image/png": "[encoded data removed]",
      "text/plain": [
       "<Figure size 600x600 with 2 Axes>"
      ]
     },
     "metadata": {},
     "output_type": "display_data"
    }
   ],
   "source": [
    "def plot_confusion_matrix(true_labels, pred_classes, classes):\n",
    "    cm = confusion_matrix(true_labels, pred_classes)\n",
    "    plt.figure(figsize=(6, 6))\n",
    "    plt.imshow(cm, interpolation='nearest', cmap=plt.cm.Blues)\n",
    "    plt.title('Confusion Matrix')\n",
    "    plt.colorbar()\n",
    "    tick_marks = np.arange(len(classes))\n",
    "    plt.xticks(tick_marks, classes, rotation=45)\n",
    "    plt.yticks(tick_marks, classes)\n",
    "    \n",
    "    # Annotate cells with counts\n",
    "    thresh = cm.max() / 2.\n",
    "    for i in range(cm.shape[0]):\n",
    "        for j in range(cm.shape[1]):\n",
    "            plt.text(j, i, format(cm[i, j], 'd'),\n",
    "                     ha=\"center\", va=\"center\",\n",
    "                     color=\"white\" if cm[i, j] > thresh else \"black\")\n",
    "    \n",
    "    plt.ylabel('True Label')\n",
    "    plt.xlabel('Predicted Label')\n",
    "    plt.tight_layout()\n",
    "\n",
    "# Define class names (adjust based on your LabelEncoder)\n",
    "class_names = [\"Republican\", \"Democrat\"]  # Assuming 0=Republican, 1=Democrat\n",
    "plot_confusion_matrix(true_labels, pred_classes, classes=class_names)\n",
    "plt.show()"
   ]
  },
  {
   "cell_type": "code",
   "execution_count": 17,
   "id": "6ba5ad97",
   "metadata": {},
   "outputs": [
    {
     "data": {
      "image/png": "[encoded data removed]",
      "text/plain": [
       "<Figure size 800x600 with 1 Axes>"
      ]
     },
     "metadata": {},
     "output_type": "display_data"
    }
   ],
   "source": [
    "def plot_roc_curve(true_labels, pred_logits):\n",
    "    # Get probabilities for the positive class (Democrat)\n",
    "    pred_probs = pred_logits[:, 1]  # Use softmax if logits are not normalized\n",
    "    fpr, tpr, thresholds = roc_curve(true_labels, pred_probs)\n",
    "    roc_auc = auc(fpr, tpr)\n",
    "    \n",
    "    plt.figure(figsize=(8, 6))\n",
    "    plt.plot(fpr, tpr, color='darkorange', lw=2, \n",
    "             label=f'ROC Curve (AUC = {roc_auc:.2f})')\n",
    "    plt.plot([0, 1], [0, 1], color='navy', lw=2, linestyle='--')\n",
    "    plt.xlim([0.0, 1.0])\n",
    "    plt.ylim([0.0, 1.05])\n",
    "    plt.xlabel('False Positive Rate')\n",
    "    plt.ylabel('True Positive Rate')\n",
    "    plt.title('Receiver Operating Characteristic (ROC)')\n",
    "    plt.legend(loc=\"lower right\")\n",
    "    plt.show()\n",
    "\n",
    "plot_roc_curve(true_labels, pred_logits)"
   ]
  },
  {
   "cell_type": "code",
   "execution_count": 18,
   "id": "47e23eea",
   "metadata": {},
   "outputs": [
    {
     "name": "stdout",
     "output_type": "stream",
     "text": [
      "              precision    recall  f1-score   support\n",
      "\n",
      "  Republican     0.8004    0.7914    0.7958       532\n",
      "    Democrat     0.8059    0.8145    0.8102       566\n",
      "\n",
      "    accuracy                         0.8033      1098\n",
      "   macro avg     0.8032    0.8029    0.8030      1098\n",
      "weighted avg     0.8032    0.8033    0.8032      1098\n",
      "\n"
     ]
    }
   ],
   "source": [
    "from sklearn.metrics import classification_report\n",
    "\n",
    "print(classification_report(\n",
    "    true_labels, \n",
    "    pred_classes, \n",
    "    target_names=class_names,\n",
    "    digits=4\n",
    "))"
   ]
  },
  {
   "cell_type": "code",
   "execution_count": 31,
   "id": "e9a6c22f",
   "metadata": {},
   "outputs": [
    {
     "data": {
      "text/plain": [
       "('./my_political_bert_model\\\\tokenizer_config.json',\n",
       " './my_political_bert_model\\\\special_tokens_map.json',\n",
       " './my_political_bert_model\\\\vocab.txt',\n",
       " './my_political_bert_model\\\\added_tokens.json',\n",
       " './my_political_bert_model\\\\tokenizer.json')"
      ]
     },
     "execution_count": 31,
     "metadata": {},
     "output_type": "execute_result"
    }
   ],
   "source": [
    "model.save_pretrained(\"./my_political_bert_model\")  # Saves model weights + config\n",
    "tokenizer.save_pretrained(\"./my_political_bert_model\") "
   ]
  },
  {
   "cell_type": "markdown",
   "id": "25a275e7",
   "metadata": {},
   "source": [
    "Inference on New Text"
   ]
  },
  {
   "cell_type": "code",
   "execution_count": 22,
   "id": "87193641",
   "metadata": {},
   "outputs": [
    {
     "name": "stdout",
     "output_type": "stream",
     "text": [
      "                                                                                                          text  prob_republican  prob_democrat  prediction\n",
      "0  Healthcare is a basic human right. I'm glad Democrats are at least trying to move us in the right direction         0.008135       0.991865    Democrat\n",
      "1       Biden isn't perfect, but after four years of chaos, it's nice to have an adult back in the White House         0.020688       0.979312    Democrat\n",
      "2             Republicans love to scream 'freedom' until it's about a woman choosing what to do with her body.         0.036251       0.963749    Democrat\n",
      "3                               Lower taxes and less government interference — that’s why I’ll always vote red         0.963992       0.036008  Republican\n",
      "4                                    Trump may be controversial, but he put America first and didn’t back down         0.822313       0.177687  Republican\n",
      "5                 Democrats are out here trying to ban gas stoves while our economy tanks — priorities, right?         0.233137       0.766863    Democrat\n"
     ]
    }
   ],
   "source": [
    "def predict_political_leaning(texts):\n",
    "    # Tokenize batch\n",
    "    inputs = tokenizer(\n",
    "        texts,\n",
    "        padding=True,\n",
    "        truncation=True,\n",
    "        max_length=256,\n",
    "        return_tensors=\"pt\"\n",
    "    ).to(\"cuda\")\n",
    "    \n",
    "    # Inference\n",
    "    with torch.no_grad():\n",
    "        outputs = model(**inputs)\n",
    "    \n",
    "    # Convert to probabilities\n",
    "    probs = torch.nn.functional.softmax(outputs.logits, dim=-1).cpu().numpy()\n",
    "    \n",
    "    # Create DataFrame\n",
    "    results = pd.DataFrame({\n",
    "        \"text\": texts,\n",
    "        \"prob_republican\": probs[:, 1],\n",
    "        \"prob_democrat\": probs[:, 0],\n",
    "        \"prediction\": [\"Republican\" if x == 1 else \"Democrat\" for x in np.argmax(probs, axis=1)]\n",
    "    })\n",
    "    \n",
    "    return results\n",
    "\n",
    "# Example usage\n",
    "texts = [\"Healthcare is a basic human right. I'm glad Democrats are at least trying to move us in the right direction\",\n",
    "         \"Biden isn't perfect, but after four years of chaos, it's nice to have an adult back in the White House\",\n",
    "        \"Republicans love to scream 'freedom' until it's about a woman choosing what to do with her body.\",\n",
    "         \"Lower taxes and less government interference — that’s why I’ll always vote red\",\n",
    "         \"Trump may be controversial, but he put America first and didn’t back down\",\n",
    "         \"Democrats are out here trying to ban gas stoves while our economy tanks — priorities, right?\"\n",
    "]\n",
    "print(predict_political_leaning(texts))"
   ]
  }
 ],
 "metadata": {
  "kernelspec": {
   "display_name": "base",
   "language": "python",
   "name": "python3"
  },
  "language_info": {
   "codemirror_mode": {
    "name": "ipython",
    "version": 3
   },
   "file_extension": ".py",
   "mimetype": "text/x-python",
   "name": "python",
   "nbconvert_exporter": "python",
   "pygments_lexer": "ipython3",
   "version": "3.10.9"
  }
 },
 "nbformat": 4,
 "nbformat_minor": 5
}
