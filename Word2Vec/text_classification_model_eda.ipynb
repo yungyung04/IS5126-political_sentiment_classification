{
 "cells": [
  {
   "cell_type": "markdown",
   "id": "2dabfad6-3867-4f2e-9b8d-69ae480ddb26",
   "metadata": {},
   "source": [
    "### Notebook Setup"
   ]
  },
  {
   "metadata": {
    "ExecuteTime": {
     "end_time": "2025-04-13T11:47:54.792159Z",
     "start_time": "2025-04-13T11:47:53.721293Z"
    }
   },
   "cell_type": "code",
   "source": [
    "import nltk\n",
    "nltk.download('stopwords')\n",
    "nltk.download('punkt')\n",
    "nltk.download('wordnet')\n",
    "nltk.download('punkt_tab')"
   ],
   "id": "f5840f8f2cfcffd0",
   "outputs": [
    {
     "name": "stderr",
     "output_type": "stream",
     "text": [
      "[nltk_data] Downloading package stopwords to /home/lumi/nltk_data...\n",
      "[nltk_data]   Package stopwords is already up-to-date!\n",
      "[nltk_data] Downloading package punkt to /home/lumi/nltk_data...\n",
      "[nltk_data]   Package punkt is already up-to-date!\n",
      "[nltk_data] Downloading package wordnet to /home/lumi/nltk_data...\n",
      "[nltk_data]   Package wordnet is already up-to-date!\n",
      "[nltk_data] Downloading package punkt_tab to /home/lumi/nltk_data...\n",
      "[nltk_data]   Package punkt_tab is already up-to-date!\n"
     ]
    },
    {
     "data": {
      "text/plain": [
       "True"
      ]
     },
     "execution_count": 2,
     "metadata": {},
     "output_type": "execute_result"
    }
   ],
   "execution_count": 2
  },
  {
   "metadata": {
    "ExecuteTime": {
     "end_time": "2025-04-13T11:47:55.113570Z",
     "start_time": "2025-04-13T11:47:54.802980Z"
    }
   },
   "cell_type": "code",
   "source": [
    "import pandas as pd\n",
    "import numpy as np\n",
    "import matplotlib.pyplot as plt\n",
    "\n",
    "# Scikit-learn\n",
    "from sklearn.model_selection import train_test_split\n",
    "from sklearn.preprocessing import LabelEncoder\n",
    "\n",
    "pd.set_option('display.width', 1000) #better print view\n",
    "pd.set_option('display.max_colwidth', 200)\n",
    "\n",
    "random_seed = 88 #for replication\n",
    "\n",
    "%load_ext autoreload\n",
    "%autoreload 2"
   ],
   "id": "14097f1d",
   "outputs": [],
   "execution_count": 3
  },
  {
   "cell_type": "markdown",
   "id": "f5ff8111-2627-4abd-80b5-dbb78db72fdb",
   "metadata": {},
   "source": [
    "#### Load Dataset from File\n",
    "\n",
    "The training data containing 3 columns:\n",
    "\n",
    "* `Text`: Raw input text\n",
    "* `Label`: Political tendency label (Democratic/Republican/NA)"
   ]
  },
  {
   "cell_type": "code",
   "id": "1ab2a247-beea-4a2d-996c-a82c4e0da2b0",
   "metadata": {
    "ExecuteTime": {
     "end_time": "2025-04-13T11:47:55.203102Z",
     "start_time": "2025-04-13T11:47:55.131130Z"
    }
   },
   "source": [
    "df = pd.read_csv(\"../subreddit_dataset_full_labeled_gpt4o.csv\", sep=\",\")\n",
    "\n",
    "df.head()"
   ],
   "outputs": [
    {
     "data": {
      "text/plain": [
       "                                                                                                                                                                                                      Text       Label\n",
       "0  Forensic Audit: \"We conclude that the Dominion Voting System is intentionally and purposefully designed with inherent errors to create systemic fraud and influence election results.\" So now that t...  Republican\n",
       "1  Biden and The Squad's Tlaib stage heated confrontation on tarmac in Detroit. Tlaib, your family is Hamas. Funded by Iran a state sponsor of terrorism. Hamas is a terrorist organization 3000 rocket...  Republican\n",
       "2  President-elect Biden is projected to win Pennsylvania and Nevada, putting him over 270 electoral votes. Most Republicans are happy with Biden as he will bring this country together and will have ...         NaN\n",
       "3  Not even an issue of politics it's wrong this man is being charged. What is going to happen with this trend is that police will not risk getting charged and will not use their weapon unless it is ...  Republican\n",
       "4  Young man wearing MAGA hat attacked at school and spit on by two girls / animals. He deserves justice! We gotta start normalizing defending ourselves against women. Screw all that \"they're weaker\"...  Republican"
      ],
      "text/html": [
       "<div>\n",
       "<style scoped>\n",
       "    .dataframe tbody tr th:only-of-type {\n",
       "        vertical-align: middle;\n",
       "    }\n",
       "\n",
       "    .dataframe tbody tr th {\n",
       "        vertical-align: top;\n",
       "    }\n",
       "\n",
       "    .dataframe thead th {\n",
       "        text-align: right;\n",
       "    }\n",
       "</style>\n",
       "<table border=\"1\" class=\"dataframe\">\n",
       "  <thead>\n",
       "    <tr style=\"text-align: right;\">\n",
       "      <th></th>\n",
       "      <th>Text</th>\n",
       "      <th>Label</th>\n",
       "    </tr>\n",
       "  </thead>\n",
       "  <tbody>\n",
       "    <tr>\n",
       "      <th>0</th>\n",
       "      <td>Forensic Audit: \"We conclude that the Dominion Voting System is intentionally and purposefully designed with inherent errors to create systemic fraud and influence election results.\" So now that t...</td>\n",
       "      <td>Republican</td>\n",
       "    </tr>\n",
       "    <tr>\n",
       "      <th>1</th>\n",
       "      <td>Biden and The Squad's Tlaib stage heated confrontation on tarmac in Detroit. Tlaib, your family is Hamas. Funded by Iran a state sponsor of terrorism. Hamas is a terrorist organization 3000 rocket...</td>\n",
       "      <td>Republican</td>\n",
       "    </tr>\n",
       "    <tr>\n",
       "      <th>2</th>\n",
       "      <td>President-elect Biden is projected to win Pennsylvania and Nevada, putting him over 270 electoral votes. Most Republicans are happy with Biden as he will bring this country together and will have ...</td>\n",
       "      <td>NaN</td>\n",
       "    </tr>\n",
       "    <tr>\n",
       "      <th>3</th>\n",
       "      <td>Not even an issue of politics it's wrong this man is being charged. What is going to happen with this trend is that police will not risk getting charged and will not use their weapon unless it is ...</td>\n",
       "      <td>Republican</td>\n",
       "    </tr>\n",
       "    <tr>\n",
       "      <th>4</th>\n",
       "      <td>Young man wearing MAGA hat attacked at school and spit on by two girls / animals. He deserves justice! We gotta start normalizing defending ourselves against women. Screw all that \"they're weaker\"...</td>\n",
       "      <td>Republican</td>\n",
       "    </tr>\n",
       "  </tbody>\n",
       "</table>\n",
       "</div>"
      ]
     },
     "execution_count": 4,
     "metadata": {},
     "output_type": "execute_result"
    }
   ],
   "execution_count": 4
  },
  {
   "cell_type": "code",
   "id": "672ef747-7568-4894-8d20-56c171fd4639",
   "metadata": {
    "ExecuteTime": {
     "end_time": "2025-04-13T11:47:55.241810Z",
     "start_time": "2025-04-13T11:47:55.219222Z"
    }
   },
   "source": [
    "print(\"Number of samples: {}\".format(len(df)))\n",
    "\n",
    "#remove whitespaces from df\n",
    "df = df.map(lambda x: x.strip() if isinstance(x, str) else x)\n",
    "print(f\"Unique labels: {df['Label'].unique()}\")"
   ],
   "outputs": [
    {
     "name": "stdout",
     "output_type": "stream",
     "text": [
      "Number of samples: 14048\n",
      "Unique labels: ['Republican' nan 'Democratic' 'NA']\n"
     ]
    }
   ],
   "execution_count": 5
  },
  {
   "cell_type": "markdown",
   "id": "a8d03a85",
   "metadata": {},
   "source": [
    "Let's exclude NA (Not Applicable) labels from the dataset"
   ]
  },
  {
   "cell_type": "code",
   "id": "4e8781da",
   "metadata": {
    "ExecuteTime": {
     "end_time": "2025-04-13T11:47:55.303841Z",
     "start_time": "2025-04-13T11:47:55.271974Z"
    }
   },
   "source": [
    "# 删除所有有缺失值（NaN）的行，包括 Text 和 Label\n",
    "df = df.dropna()\n",
    "\n",
    "# 删除标签值为字符串 \"NA\" 的行（注意不是空值，而是实际写成 \"NA\" 的字符串）\n",
    "df = df[df[\"Label\"] != \"NA\"]\n",
    "\n",
    "# 把文字标签转成数字（0=Republican，1=Democratic）\n",
    "df['Label'] = df['Label'].map({'Republican': 1, 'Democratic': 0})\n",
    "df.head()\n"
   ],
   "outputs": [
    {
     "data": {
      "text/plain": [
       "                                                                                                                                                                                                      Text  Label\n",
       "0  Forensic Audit: \"We conclude that the Dominion Voting System is intentionally and purposefully designed with inherent errors to create systemic fraud and influence election results.\" So now that t...      1\n",
       "1  Biden and The Squad's Tlaib stage heated confrontation on tarmac in Detroit. Tlaib, your family is Hamas. Funded by Iran a state sponsor of terrorism. Hamas is a terrorist organization 3000 rocket...      1\n",
       "3  Not even an issue of politics it's wrong this man is being charged. What is going to happen with this trend is that police will not risk getting charged and will not use their weapon unless it is ...      1\n",
       "4  Young man wearing MAGA hat attacked at school and spit on by two girls / animals. He deserves justice! We gotta start normalizing defending ourselves against women. Screw all that \"they're weaker\"...      1\n",
       "6       Trump says working on a very big trade deal with India, but will take time. India is, rightful, where we should pay a significant amount of our attention when it comes to that side of the world.      1"
      ],
      "text/html": [
       "<div>\n",
       "<style scoped>\n",
       "    .dataframe tbody tr th:only-of-type {\n",
       "        vertical-align: middle;\n",
       "    }\n",
       "\n",
       "    .dataframe tbody tr th {\n",
       "        vertical-align: top;\n",
       "    }\n",
       "\n",
       "    .dataframe thead th {\n",
       "        text-align: right;\n",
       "    }\n",
       "</style>\n",
       "<table border=\"1\" class=\"dataframe\">\n",
       "  <thead>\n",
       "    <tr style=\"text-align: right;\">\n",
       "      <th></th>\n",
       "      <th>Text</th>\n",
       "      <th>Label</th>\n",
       "    </tr>\n",
       "  </thead>\n",
       "  <tbody>\n",
       "    <tr>\n",
       "      <th>0</th>\n",
       "      <td>Forensic Audit: \"We conclude that the Dominion Voting System is intentionally and purposefully designed with inherent errors to create systemic fraud and influence election results.\" So now that t...</td>\n",
       "      <td>1</td>\n",
       "    </tr>\n",
       "    <tr>\n",
       "      <th>1</th>\n",
       "      <td>Biden and The Squad's Tlaib stage heated confrontation on tarmac in Detroit. Tlaib, your family is Hamas. Funded by Iran a state sponsor of terrorism. Hamas is a terrorist organization 3000 rocket...</td>\n",
       "      <td>1</td>\n",
       "    </tr>\n",
       "    <tr>\n",
       "      <th>3</th>\n",
       "      <td>Not even an issue of politics it's wrong this man is being charged. What is going to happen with this trend is that police will not risk getting charged and will not use their weapon unless it is ...</td>\n",
       "      <td>1</td>\n",
       "    </tr>\n",
       "    <tr>\n",
       "      <th>4</th>\n",
       "      <td>Young man wearing MAGA hat attacked at school and spit on by two girls / animals. He deserves justice! We gotta start normalizing defending ourselves against women. Screw all that \"they're weaker\"...</td>\n",
       "      <td>1</td>\n",
       "    </tr>\n",
       "    <tr>\n",
       "      <th>6</th>\n",
       "      <td>Trump says working on a very big trade deal with India, but will take time. India is, rightful, where we should pay a significant amount of our attention when it comes to that side of the world.</td>\n",
       "      <td>1</td>\n",
       "    </tr>\n",
       "  </tbody>\n",
       "</table>\n",
       "</div>"
      ]
     },
     "execution_count": 6,
     "metadata": {},
     "output_type": "execute_result"
    }
   ],
   "execution_count": 6
  },
  {
   "cell_type": "code",
   "id": "349c379e",
   "metadata": {
    "ExecuteTime": {
     "end_time": "2025-04-13T11:47:55.383846Z",
     "start_time": "2025-04-13T11:47:55.369598Z"
    }
   },
   "source": [
    "print(\"Number of samples: {}\".format(len(df)))"
   ],
   "outputs": [
    {
     "name": "stdout",
     "output_type": "stream",
     "text": [
      "Number of samples: 10979\n"
     ]
    }
   ],
   "execution_count": 7
  },
  {
   "cell_type": "markdown",
   "id": "35778731-7907-468d-b5b1-669ba135f14d",
   "metadata": {},
   "source": [
    "Let's visualize the distribution of class labels in form of a pie chart."
   ]
  },
  {
   "cell_type": "code",
   "id": "ed57e9ce-bbf4-467e-a623-2c2c2f45cedc",
   "metadata": {
    "ExecuteTime": {
     "end_time": "2025-04-13T11:47:55.689185Z",
     "start_time": "2025-04-13T11:47:55.596712Z"
    }
   },
   "source": [
    "kwargs = dict(\n",
    "    startangle = 90,\n",
    "    fontsize   = 13,\n",
    "    figsize    = (60,5),\n",
    "    autopct    = '%1.1f%%',\n",
    "    label      = ''\n",
    ")\n",
    "\n",
    "df['Label'].value_counts().plot.pie(**kwargs)"
   ],
   "outputs": [
    {
     "data": {
      "text/plain": [
       "<Axes: >"
      ]
     },
     "execution_count": 8,
     "metadata": {},
     "output_type": "execute_result"
    },
    {
     "data": {
      "text/plain": [
       "<Figure size 6000x500 with 1 Axes>"
      ],
      "image/png": "[encoded data removed]"
     },
     "metadata": {},
     "output_type": "display_data"
    }
   ],
   "execution_count": 8
  },
  {
   "cell_type": "markdown",
   "id": "162eee20-be77-468c-84a1-e1986d5d1d5f",
   "metadata": {},
   "source": [
    "While not perfectly distributed, the class labels are arguebly well balanced."
   ]
  },
  {
   "cell_type": "markdown",
   "id": "763d2325-8f9d-46c9-a87e-13d46e8d51c6",
   "metadata": {},
   "source": [
    "#### Data Preparation"
   ]
  },
  {
   "cell_type": "markdown",
   "id": "6875aaa1",
   "metadata": {},
   "source": [
    "Text Preprocessing"
   ]
  },
  {
   "cell_type": "code",
   "id": "b0a28ecd",
   "metadata": {
    "ExecuteTime": {
     "end_time": "2025-04-13T11:48:03.213553Z",
     "start_time": "2025-04-13T11:47:55.739304Z"
    }
   },
   "source": [
    "import re\n",
    "from nltk.tokenize import word_tokenize\n",
    "from nltk.stem import WordNetLemmatizer\n",
    "from nltk.corpus import stopwords\n",
    "\n",
    "LEMMATIZER = WordNetLemmatizer()\n",
    "STOP_WORDS = set(stopwords.words('english'))\n",
    "#define custom stop words to ensure negation words are kept\n",
    "WORDS_TO_KEEP = {'not', 'but', 'no', 'never', 'none', 'however', 'although', 'yet'}\n",
    "CUSTOM_STOP_WORDS = STOP_WORDS.difference(WORDS_TO_KEEP)\n",
    "\n",
    "#text preprocessing including case normalization, special character removal, lematization, etc.\n",
    "def preprocess(text):\n",
    "    # Lowercase and remove URLs/special characters\n",
    "    text = text.lower()\n",
    "    text = re.sub(r'http\\S+', '', text)\n",
    "    text = re.sub(r'[^a-zA-Z\\s.?!.]', '', text)\n",
    "    \n",
    "    text = re.sub(r'(?<!\\w)[.?!](?!\\s|$)', '', text) #remove punctuation that is not at the end of a word\n",
    "    \n",
    "    # Remove repetitive characters e.g: looool -> lol. hahaha-> haha\n",
    "    #text = re.sub(r'(.)\\1{2,}', r'\\1', text)\n",
    "    text = re.sub(r'([a-z][a-z])\\1+', r'\\1\\1', text)\n",
    "    \n",
    "    # Tokenize and lemmatize\n",
    "    tokens = word_tokenize(text)\n",
    "    tokens = [LEMMATIZER.lemmatize(word) for word in tokens]\n",
    "    \n",
    "    #Merge back tokens\n",
    "    result = \"\"\n",
    "    for i, token in enumerate(tokens):\n",
    "        if i > 0 and re.match(r'[.?!,;:]', token):\n",
    "            result += token  # No space before punctuation\n",
    "        else:\n",
    "            result += (\" \" if result else \"\") + token #space before word, no space at beginning.\n",
    "    return result.strip()\n",
    "\n",
    "df_clean = df.copy()\n",
    "df_clean['Text'] =  df_clean['Text'].apply(preprocess)\n",
    "df_clean['Text'] = df_clean['Text'].str.strip()\n",
    "df_clean.head(5)\n"
   ],
   "outputs": [
    {
     "data": {
      "text/plain": [
       "                                                                                                                                                                                                      Text  Label\n",
       "0  forensic audit we conclude that the dominion voting system is intentionally and purposefully designed with inherent error to create systemic fraud and influence election result. so now that they h...      1\n",
       "1  biden and the squad tlaib stage heated confrontation on tarmac in detroit. tlaib your family is hamas. funded by iran a state sponsor of terrorism. hamas is a terrorist organization rocket shot at...      1\n",
       "3  not even an issue of politics it wrong this man is being charged. what is going to happen with this trend is that police will not risk getting charged and will not use their weapon unless it is ab...      1\n",
       "4  young man wearing maga hat attacked at school and spit on by two girl animal. he deserves justice! we got ta start normalizing defending ourselves against woman. screw all that theyre weaker b the...      1\n",
       "6            trump say working on a very big trade deal with india but will take time. india is rightful where we should pay a significant amount of our attention when it come to that side of the world.      1"
      ],
      "text/html": [
       "<div>\n",
       "<style scoped>\n",
       "    .dataframe tbody tr th:only-of-type {\n",
       "        vertical-align: middle;\n",
       "    }\n",
       "\n",
       "    .dataframe tbody tr th {\n",
       "        vertical-align: top;\n",
       "    }\n",
       "\n",
       "    .dataframe thead th {\n",
       "        text-align: right;\n",
       "    }\n",
       "</style>\n",
       "<table border=\"1\" class=\"dataframe\">\n",
       "  <thead>\n",
       "    <tr style=\"text-align: right;\">\n",
       "      <th></th>\n",
       "      <th>Text</th>\n",
       "      <th>Label</th>\n",
       "    </tr>\n",
       "  </thead>\n",
       "  <tbody>\n",
       "    <tr>\n",
       "      <th>0</th>\n",
       "      <td>forensic audit we conclude that the dominion voting system is intentionally and purposefully designed with inherent error to create systemic fraud and influence election result. so now that they h...</td>\n",
       "      <td>1</td>\n",
       "    </tr>\n",
       "    <tr>\n",
       "      <th>1</th>\n",
       "      <td>biden and the squad tlaib stage heated confrontation on tarmac in detroit. tlaib your family is hamas. funded by iran a state sponsor of terrorism. hamas is a terrorist organization rocket shot at...</td>\n",
       "      <td>1</td>\n",
       "    </tr>\n",
       "    <tr>\n",
       "      <th>3</th>\n",
       "      <td>not even an issue of politics it wrong this man is being charged. what is going to happen with this trend is that police will not risk getting charged and will not use their weapon unless it is ab...</td>\n",
       "      <td>1</td>\n",
       "    </tr>\n",
       "    <tr>\n",
       "      <th>4</th>\n",
       "      <td>young man wearing maga hat attacked at school and spit on by two girl animal. he deserves justice! we got ta start normalizing defending ourselves against woman. screw all that theyre weaker b the...</td>\n",
       "      <td>1</td>\n",
       "    </tr>\n",
       "    <tr>\n",
       "      <th>6</th>\n",
       "      <td>trump say working on a very big trade deal with india but will take time. india is rightful where we should pay a significant amount of our attention when it come to that side of the world.</td>\n",
       "      <td>1</td>\n",
       "    </tr>\n",
       "  </tbody>\n",
       "</table>\n",
       "</div>"
      ]
     },
     "execution_count": 9,
     "metadata": {},
     "output_type": "execute_result"
    }
   ],
   "execution_count": 9
  },
  {
   "metadata": {},
   "cell_type": "markdown",
   "source": "#### Transformers & Fine tune",
   "id": "713d0201079294af"
  },
  {
   "metadata": {
    "ExecuteTime": {
     "end_time": "2025-04-13T11:48:03.264764Z",
     "start_time": "2025-04-13T11:48:03.251021Z"
    }
   },
   "cell_type": "code",
   "source": [
    "# 1. 数据预处理\n",
    "X_texts = df_clean['Text'].tolist()\n",
    "y_labels = df_clean['Label'].values"
   ],
   "id": "184bf9b24226702a",
   "outputs": [],
   "execution_count": 10
  },
  {
   "metadata": {
    "ExecuteTime": {
     "end_time": "2025-04-13T11:57:14.385191Z",
     "start_time": "2025-04-13T11:48:03.294847Z"
    }
   },
   "cell_type": "code",
   "source": [
    "from sentence_transformers import SentenceTransformer\n",
    "\n",
    "# 2. 加载预训练的句向量模型\n",
    "model_sbert = SentenceTransformer(\"GTR-T5-large\")  # 你也可以换成 all-MiniLM-L6-v2\n",
    "X_vectors = model_sbert.encode(X_texts, convert_to_numpy=True)"
   ],
   "id": "f39843d04b037fa2",
   "outputs": [],
   "execution_count": 11
  },
  {
   "metadata": {
    "ExecuteTime": {
     "end_time": "2025-04-13T11:57:14.498196Z",
     "start_time": "2025-04-13T11:57:14.447175Z"
    }
   },
   "cell_type": "code",
   "source": [
    "# 3. 划分训练集和测试集\n",
    "X_train, X_temp, y_train, y_temp = train_test_split(\n",
    "\tX_vectors, y_labels, test_size=0.2, stratify=y_labels, random_state=88)\n",
    "\n",
    "X_val, X_test, y_val, y_test = train_test_split(X_temp, y_temp, test_size=0.5, stratify=y_temp, random_state=88)\n",
    "\n",
    "print(f\"Size of X_train: {X_train.shape[0]}\")\n",
    "print(f\"Size of X_val: {X_val.shape[0]}\")\n",
    "print(f\"Size of X_test: {X_test.shape[0]}\")"
   ],
   "id": "94141689103e7f23",
   "outputs": [
    {
     "name": "stdout",
     "output_type": "stream",
     "text": [
      "Size of X_train: 8783\n",
      "Size of X_val: 1098\n",
      "Size of X_test: 1098\n"
     ]
    }
   ],
   "execution_count": 12
  },
  {
   "metadata": {
    "ExecuteTime": {
     "end_time": "2025-04-13T11:57:14.553180Z",
     "start_time": "2025-04-13T11:57:14.524230Z"
    }
   },
   "cell_type": "code",
   "source": [
    "# 4. 创建 PyTorch Dataset\n",
    "from torch.utils.data import Dataset, DataLoader\n",
    "import torch\n",
    "\n",
    "class TextDataset(Dataset):\n",
    "    def __init__(self, X, y):\n",
    "        self.X = torch.tensor(X, dtype=torch.float32)\n",
    "        self.y = torch.tensor(y, dtype=torch.long)\n",
    "\n",
    "    def __len__(self):\n",
    "        return len(self.X)\n",
    "\n",
    "    def __getitem__(self, idx):\n",
    "        return self.X[idx], self.y[idx]\n",
    "\n",
    "train_dataset = TextDataset(X_train, y_train)\n",
    "test_dataset = TextDataset(X_test, y_test)\n",
    "\n",
    "train_loader = DataLoader(train_dataset, batch_size=32, shuffle=True, num_workers=0)\n",
    "test_loader = DataLoader(test_dataset, batch_size=32, num_workers=0)"
   ],
   "id": "dda1113876b4ccf4",
   "outputs": [],
   "execution_count": 13
  },
  {
   "metadata": {
    "ExecuteTime": {
     "end_time": "2025-04-13T11:57:42.131547Z",
     "start_time": "2025-04-13T11:57:14.569468Z"
    }
   },
   "cell_type": "code",
   "source": [
    "# 5. 定义分类模型\n",
    "import torch.nn as nn\n",
    "class MLPClassifier(nn.Module):\n",
    "    def __init__(self, input_dim=768):\n",
    "        super().__init__()\n",
    "        self.net = nn.Sequential(\n",
    "            nn.Linear(input_dim, 512),\n",
    "            nn.ReLU(),\n",
    "            nn.Dropout(0.3),\n",
    "            nn.Linear(512, 256),\n",
    "            nn.ReLU(),\n",
    "            nn.Dropout(0.3),\n",
    "            nn.Linear(256, 2)\n",
    "        )\n",
    "\n",
    "    def forward(self, x):\n",
    "        return self.net(x)\n",
    "\n",
    "\n",
    "# 6. 训练模型\n",
    "clf = MLPClassifier(input_dim=X_train.shape[1])\n",
    "device = torch.device(\"cuda\" if torch.cuda.is_available() else \"cpu\")\n",
    "clf.to(device)\n",
    "\n",
    "optimizer = torch.optim.Adam(clf.parameters(), lr=1e-4, weight_decay=1e-5)\n",
    "loss_fn = nn.CrossEntropyLoss()\n",
    "\n",
    "best_loss = float('inf')\n",
    "patience = 5\n",
    "counter = 0\n",
    "\n",
    "for epoch in range(50):\n",
    "    clf.train()\n",
    "    total_loss = 0\n",
    "    for xb, yb in train_loader:\n",
    "        xb, yb = xb.to(device), yb.to(device)\n",
    "        pred = clf(xb)\n",
    "        loss = loss_fn(pred, yb)\n",
    "\n",
    "        optimizer.zero_grad()\n",
    "        loss.backward()\n",
    "        optimizer.step()\n",
    "\n",
    "        total_loss += loss.item()\n",
    "\n",
    "    avg_loss = total_loss / len(train_loader)\n",
    "    print(f\"Epoch {epoch+1} loss: {avg_loss:.4f}\")\n",
    "\n",
    "    # Early stopping 检查\n",
    "    if avg_loss < best_loss - 1e-4:\n",
    "        best_loss = avg_loss\n",
    "        counter = 0\n",
    "    else:\n",
    "        counter += 1\n",
    "        if counter >= patience:\n",
    "            print(f\"Early stopping triggered at epoch {epoch+1}!\")\n",
    "            break\n"
   ],
   "id": "e49c58f7f35fa7aa",
   "outputs": [
    {
     "name": "stdout",
     "output_type": "stream",
     "text": [
      "Epoch 1 loss: 0.6709\n",
      "Epoch 2 loss: 0.5929\n",
      "Epoch 3 loss: 0.5614\n",
      "Epoch 4 loss: 0.5428\n",
      "Epoch 5 loss: 0.5294\n",
      "Epoch 6 loss: 0.5197\n",
      "Epoch 7 loss: 0.5087\n",
      "Epoch 8 loss: 0.4950\n",
      "Epoch 9 loss: 0.4841\n",
      "Epoch 10 loss: 0.4727\n",
      "Epoch 11 loss: 0.4618\n",
      "Epoch 12 loss: 0.4500\n",
      "Epoch 13 loss: 0.4380\n",
      "Epoch 14 loss: 0.4224\n",
      "Epoch 15 loss: 0.4090\n",
      "Epoch 16 loss: 0.4001\n",
      "Epoch 17 loss: 0.3855\n",
      "Epoch 18 loss: 0.3716\n",
      "Epoch 19 loss: 0.3598\n",
      "Epoch 20 loss: 0.3429\n",
      "Epoch 21 loss: 0.3296\n",
      "Epoch 22 loss: 0.3143\n",
      "Epoch 23 loss: 0.3018\n",
      "Epoch 24 loss: 0.2864\n",
      "Epoch 25 loss: 0.2704\n",
      "Epoch 26 loss: 0.2562\n",
      "Epoch 27 loss: 0.2411\n",
      "Epoch 28 loss: 0.2256\n",
      "Epoch 29 loss: 0.2129\n",
      "Epoch 30 loss: 0.1947\n",
      "Epoch 31 loss: 0.1829\n",
      "Epoch 32 loss: 0.1718\n",
      "Epoch 33 loss: 0.1564\n",
      "Epoch 34 loss: 0.1452\n",
      "Epoch 35 loss: 0.1307\n",
      "Epoch 36 loss: 0.1221\n",
      "Epoch 37 loss: 0.1097\n",
      "Epoch 38 loss: 0.0966\n",
      "Epoch 39 loss: 0.0952\n",
      "Epoch 40 loss: 0.0841\n",
      "Epoch 41 loss: 0.0803\n",
      "Epoch 42 loss: 0.0728\n",
      "Epoch 43 loss: 0.0662\n",
      "Epoch 44 loss: 0.0603\n",
      "Epoch 45 loss: 0.0673\n",
      "Epoch 46 loss: 0.0547\n",
      "Epoch 47 loss: 0.0485\n",
      "Epoch 48 loss: 0.0456\n",
      "Epoch 49 loss: 0.0404\n",
      "Epoch 50 loss: 0.0420\n"
     ]
    }
   ],
   "execution_count": 14
  },
  {
   "metadata": {
    "ExecuteTime": {
     "end_time": "2025-04-13T11:57:42.257840Z",
     "start_time": "2025-04-13T11:57:42.182871Z"
    }
   },
   "cell_type": "code",
   "source": [
    "from sklearn.metrics import precision_score, recall_score, f1_score\n",
    "import numpy as np\n",
    "\n",
    "clf.eval()\n",
    "correct = 0\n",
    "total = 0\n",
    "all_preds = []\n",
    "all_labels = []\n",
    "\n",
    "with torch.no_grad():\n",
    "    for xb, yb in test_loader:\n",
    "        xb, yb = xb.to(device), yb.to(device)\n",
    "        pred = clf(xb)\n",
    "        pred_labels = torch.argmax(pred, dim=1)\n",
    "\n",
    "        all_preds.extend(pred_labels.cpu().numpy())\n",
    "        all_labels.extend(yb.cpu().numpy())\n",
    "\n",
    "        correct += (pred_labels == yb).sum().item()\n",
    "        total += yb.size(0)\n",
    "\n",
    "accuracy = correct / total\n",
    "precision = precision_score(all_labels, all_preds) * 100\n",
    "recall = recall_score(all_labels, all_preds) * 100\n",
    "f1 = f1_score(all_labels, all_preds) * 100\n",
    "\n",
    "# 类别比例\n",
    "all_preds = np.array(all_preds)\n",
    "democrat_pct = (all_preds == 0).mean() * 100\n",
    "republican_pct = (all_preds == 1).mean() * 100\n",
    "\n",
    "print(f\"\\nTest Accuracy: {accuracy:.4f}\")\n",
    "print(f\"Precision (%): {precision:.2f}\")\n",
    "print(f\"Recall (%): {recall:.2f}\")\n",
    "print(f\"F1 Score (%): {f1:.2f}\")\n",
    "print(f\"Democrat %: {democrat_pct:.2f}\")\n",
    "print(f\"Republican %: {republican_pct:.2f}\")"
   ],
   "id": "9df797c4ff9ca8f0",
   "outputs": [
    {
     "name": "stdout",
     "output_type": "stream",
     "text": [
      "\n",
      "Test Accuracy: 0.8087\n",
      "Precision (%): 82.48\n",
      "Recall (%): 79.86\n",
      "F1 Score (%): 81.15\n",
      "Democrat %: 50.09\n",
      "Republican %: 49.91\n"
     ]
    }
   ],
   "execution_count": 15
  },
  {
   "metadata": {
    "ExecuteTime": {
     "end_time": "2025-04-13T11:57:42.342199Z",
     "start_time": "2025-04-13T11:57:42.280449Z"
    }
   },
   "cell_type": "code",
   "source": [
    "# 8. 用模型对新文本进行分类\n",
    "def predict(text):\n",
    "    clf.eval()\n",
    "    vec = model_sbert.encode([text], convert_to_tensor=True).to(device)\n",
    "    with torch.no_grad():\n",
    "        output = clf(vec)\n",
    "        prediction = torch.argmax(output, dim=1).item()\n",
    "    return prediction\n",
    "\n",
    "# 示例：\n",
    "print(\"\\nExample prediction:\")\n",
    "print(predict(\"xxx believe in empowering small businesses by cutting red tape and lowering taxes. This fuels job creation and economic independence.\"))"
   ],
   "id": "70d3f6b00860a5be",
   "outputs": [
    {
     "name": "stdout",
     "output_type": "stream",
     "text": [
      "\n",
      "Example prediction:\n",
      "1\n"
     ]
    }
   ],
   "execution_count": 16
  },
  {
   "metadata": {
    "ExecuteTime": {
     "end_time": "2025-04-13T11:57:42.453822Z",
     "start_time": "2025-04-13T11:57:42.409715Z"
    }
   },
   "cell_type": "code",
   "source": [
    "print(f\"Validation set size: {len(X_val)}\")\n",
    "print(f\"Test set size: {len(X_test)}\")\n"
   ],
   "id": "41127ed65685e911",
   "outputs": [
    {
     "name": "stdout",
     "output_type": "stream",
     "text": [
      "Validation set size: 1098\n",
      "Test set size: 1098\n"
     ]
    }
   ],
   "execution_count": 17
  },
  {
   "metadata": {
    "ExecuteTime": {
     "end_time": "2025-04-13T12:34:56.710276Z",
     "start_time": "2025-04-13T12:34:56.667123Z"
    }
   },
   "cell_type": "code",
   "source": [
    "# 妈的还要重新split，我之前split的是embeddings向量\n",
    "texts = df_clean[\"Text\"].tolist()\n",
    "labels = df_clean[\"Label\"].tolist()\n",
    "\n",
    "# 原始文本的 train/val/test 划分（保留文本）\n",
    "X_train_text, X_temp_text, y_train, y_temp = train_test_split(\n",
    "    texts, labels, test_size=0.2, random_state=88, stratify=labels\n",
    ")\n",
    "X_val_text, X_test_text, y_val, y_test = train_test_split(\n",
    "    X_temp_text, y_temp, test_size=0.5, random_state=88, stratify=y_temp\n",
    ")\n"
   ],
   "id": "b83561f56d6b583d",
   "outputs": [],
   "execution_count": 23
  },
  {
   "metadata": {
    "ExecuteTime": {
     "end_time": "2025-04-13T12:38:19.819589Z",
     "start_time": "2025-04-13T12:34:58.507033Z"
    }
   },
   "cell_type": "code",
   "source": [
    "from tqdm import tqdm\n",
    "\n",
    "val_preds = [predict(text) for text in tqdm(X_val_text)]\n",
    "pd.DataFrame(val_preds, columns=[\"label\"]).to_csv(\"val_predictions.csv\", index=False)"
   ],
   "id": "d33924147a669b22",
   "outputs": [
    {
     "name": "stderr",
     "output_type": "stream",
     "text": [
      "100%|██████████| 1098/1098 [03:21<00:00,  5.46it/s]\n"
     ]
    }
   ],
   "execution_count": 24
  },
  {
   "metadata": {
    "ExecuteTime": {
     "end_time": "2025-04-13T12:40:01.949669Z",
     "start_time": "2025-04-13T12:38:37.582715Z"
    }
   },
   "cell_type": "code",
   "source": [
    "\n",
    "# test 集预测\n",
    "test_preds = [predict(text) for text in tqdm(X_test_text)]\n",
    "pd.DataFrame(test_preds, columns=[\"label\"]).to_csv(\"test_predictions.csv\", index=False)\n"
   ],
   "id": "b2812c253b8b930f",
   "outputs": [
    {
     "name": "stderr",
     "output_type": "stream",
     "text": [
      "100%|██████████| 1098/1098 [01:24<00:00, 13.02it/s]\n"
     ]
    }
   ],
   "execution_count": 25
  },
  {
   "metadata": {
    "ExecuteTime": {
     "end_time": "2025-04-13T12:40:02.008358Z",
     "start_time": "2025-04-13T12:40:01.979431Z"
    }
   },
   "cell_type": "code",
   "source": [
    "# 把text也保留下\n",
    "\n",
    "def predict_and_export(text_list, filename):\n",
    "    clf.eval()\n",
    "    results = []\n",
    "\n",
    "    for text in text_list:\n",
    "        vec = model_sbert.encode([text], convert_to_tensor=True).to(device)\n",
    "        with torch.no_grad():\n",
    "            output = clf(vec)\n",
    "            prediction = torch.argmax(output, dim=1).item()\n",
    "        results.append({\n",
    "            \"text\": text,\n",
    "            \"predicted_label\": prediction\n",
    "        })\n",
    "\n",
    "    df_out = pd.DataFrame(results)\n",
    "    df_out.to_csv(filename, index=False)\n",
    "    print(f\"Saved to {filename} \")"
   ],
   "id": "6cd3453dea76efb2",
   "outputs": [],
   "execution_count": 26
  },
  {
   "metadata": {
    "ExecuteTime": {
     "end_time": "2025-04-13T12:41:49.599577Z",
     "start_time": "2025-04-13T12:40:02.023541Z"
    }
   },
   "cell_type": "code",
   "source": "predict_and_export(X_val_text, \"val_predictions_w_t.csv\")",
   "id": "1c1803d7de0ba5b2",
   "outputs": [
    {
     "name": "stdout",
     "output_type": "stream",
     "text": [
      "Saved to val_predictions_w_t.csv \n"
     ]
    }
   ],
   "execution_count": 27
  },
  {
   "metadata": {
    "ExecuteTime": {
     "end_time": "2025-04-13T12:43:21.041809Z",
     "start_time": "2025-04-13T12:41:49.667178Z"
    }
   },
   "cell_type": "code",
   "source": "predict_and_export(X_test_text, \"test_predictions_w_t.csv\")",
   "id": "f9e422922aa8b127",
   "outputs": [
    {
     "name": "stdout",
     "output_type": "stream",
     "text": [
      "Saved to test_predictions_w_t.csv \n"
     ]
    }
   ],
   "execution_count": 28
  }
 ],
 "metadata": {
  "kernelspec": {
   "display_name": "base",
   "language": "python",
   "name": "python3"
  },
  "language_info": {
   "codemirror_mode": {
    "name": "ipython",
    "version": 3
   },
   "file_extension": ".py",
   "mimetype": "text/x-python",
   "name": "python",
   "nbconvert_exporter": "python",
   "pygments_lexer": "ipython3",
   "version": "3.10.9"
  }
 },
 "nbformat": 4,
 "nbformat_minor": 5
}
